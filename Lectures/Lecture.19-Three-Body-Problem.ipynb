{
 "cells": [
  {
   "cell_type": "code",
   "execution_count": 1,
   "metadata": {},
   "outputs": [],
   "source": [
    "%matplotlib inline\n",
    "import numpy as np\n",
    "import pandas as pd\n",
    "import matplotlib.pyplot as plt\n",
    "import tqdm\n",
    "from ipywidgets import interactive, fixed"
   ]
  },
  {
   "cell_type": "markdown",
   "metadata": {},
   "source": [
    "# Three Body Problem\n",
    "## Lecture 19"
   ]
  },
  {
   "cell_type": "markdown",
   "metadata": {},
   "source": [
    "## Review: Planetary Motion"
   ]
  },
  {
   "cell_type": "markdown",
   "metadata": {},
   "source": [
    "Recall that we can simulate the motion of planet around the Sun with the followin equations of motion:\n",
    "\n",
    "\\begin{align}\n",
    "\\frac{d v_x}{dt} &= - \\frac{G M}{r^3} x \\\\\n",
    "\\frac{d x}{dt} &= v_x \\\\\n",
    "\\frac{d v_y}{dt} &= - \\frac{G M}{r^3} y \\\\\n",
    "\\frac{d y}{dt} &= v_y \n",
    "\\end{align}\n"
   ]
  },
  {
   "cell_type": "markdown",
   "metadata": {},
   "source": [
    "To solve this *dynamical system* we create a Python function that evalutes the functions on the right hand side of system."
   ]
  },
  {
   "cell_type": "code",
   "execution_count": 2,
   "metadata": {},
   "outputs": [],
   "source": [
    "def Fplanet(s, t, p):\n",
    "    x, y, vx, vy = s\n",
    "    \n",
    "    GM, = p\n",
    "    \n",
    "    r = np.sqrt(x**2 + y**2)\n",
    "    dsdt = [vx,\n",
    "            vy,\n",
    "            - GM/r**3 * x,\n",
    "            - GM/r**3 * y,\n",
    "            ]\n",
    "        \n",
    "    return np.array(dsdt)\n"
   ]
  },
  {
   "cell_type": "markdown",
   "metadata": {},
   "source": [
    "We can solve this system with several different numerical methods, including a 4th order Runge-Kutta method:"
   ]
  },
  {
   "cell_type": "code",
   "execution_count": 3,
   "metadata": {},
   "outputs": [],
   "source": [
    "def RK4Stepper( F = lambda s, t, p: s,  \n",
    "                s0 = [0.1], t0 = 0, p = [],\n",
    "                dt = 0.1,  tmax = 1):\n",
    "\n",
    "    s = np.array(s0)\n",
    "    t = t0\n",
    "\n",
    "    while t < tmax:\n",
    "        r = list(s)\n",
    "        r.append(t)\n",
    "        yield r\n",
    "              \n",
    "        ds1 = F(s, t, p)\n",
    "        s1 = s + ds1*dt/2\n",
    "        ds2 = F(s1, t + dt/2, p)\n",
    "        s2 = s + ds2*dt/2\n",
    "        ds3 = F(s2, t + dt/2, p)\n",
    "        s3 = s + ds3*dt\n",
    "        ds4 = F(s3, t + dt, p)\n",
    "        s = s + (ds1 + 2*ds2 + 2*ds3 + ds4)/6*dt\n",
    "        \n",
    "        t = t + dt"
   ]
  },
  {
   "cell_type": "code",
   "execution_count": 4,
   "metadata": {},
   "outputs": [],
   "source": [
    "def PlanetApp(x0=1, # AU\n",
    "              y0 = 0,\n",
    "              vx0 = 0,\n",
    "              vy0 = 2*np.pi, # AU/yr\n",
    "              tmax = 1, # one year\n",
    "              dt = 0.01\n",
    "              ):\n",
    "        \n",
    "    s0 =[x0, y0, vx0, vy0]\n",
    "    \n",
    "    ## GM in units of (AU)^3/(yr)^2\n",
    "    GM = 4*np.pi**2 \n",
    "    p = [GM] \n",
    "    \n",
    "    stepper = RK4Stepper(Fplanet, s0=s0, dt=dt, tmax=tmax, p=p)\n",
    "    data = pd.DataFrame(stepper, columns = ['x', 'y', 'vx', 'vy', 't'])    \n",
    "    \n",
    "    return data"
   ]
  },
  {
   "cell_type": "code",
   "execution_count": 5,
   "metadata": {},
   "outputs": [
    {
     "data": {
      "text/html": [
       "<div>\n",
       "<style scoped>\n",
       "    .dataframe tbody tr th:only-of-type {\n",
       "        vertical-align: middle;\n",
       "    }\n",
       "\n",
       "    .dataframe tbody tr th {\n",
       "        vertical-align: top;\n",
       "    }\n",
       "\n",
       "    .dataframe thead th {\n",
       "        text-align: right;\n",
       "    }\n",
       "</style>\n",
       "<table border=\"1\" class=\"dataframe\">\n",
       "  <thead>\n",
       "    <tr style=\"text-align: right;\">\n",
       "      <th></th>\n",
       "      <th>x</th>\n",
       "      <th>y</th>\n",
       "      <th>vx</th>\n",
       "      <th>vy</th>\n",
       "      <th>t</th>\n",
       "    </tr>\n",
       "  </thead>\n",
       "  <tbody>\n",
       "    <tr>\n",
       "      <th>0</th>\n",
       "      <td>1.000000</td>\n",
       "      <td>0.000000</td>\n",
       "      <td>0.000000</td>\n",
       "      <td>6.283185</td>\n",
       "      <td>0.00</td>\n",
       "    </tr>\n",
       "    <tr>\n",
       "      <th>1</th>\n",
       "      <td>0.998027</td>\n",
       "      <td>0.062791</td>\n",
       "      <td>-0.394525</td>\n",
       "      <td>6.270787</td>\n",
       "      <td>0.01</td>\n",
       "    </tr>\n",
       "    <tr>\n",
       "      <th>2</th>\n",
       "      <td>0.992115</td>\n",
       "      <td>0.125333</td>\n",
       "      <td>-0.787492</td>\n",
       "      <td>6.233641</td>\n",
       "      <td>0.02</td>\n",
       "    </tr>\n",
       "    <tr>\n",
       "      <th>3</th>\n",
       "      <td>0.982287</td>\n",
       "      <td>0.187381</td>\n",
       "      <td>-1.177352</td>\n",
       "      <td>6.171893</td>\n",
       "      <td>0.03</td>\n",
       "    </tr>\n",
       "    <tr>\n",
       "      <th>4</th>\n",
       "      <td>0.968583</td>\n",
       "      <td>0.248690</td>\n",
       "      <td>-1.562565</td>\n",
       "      <td>6.085787</td>\n",
       "      <td>0.04</td>\n",
       "    </tr>\n",
       "  </tbody>\n",
       "</table>\n",
       "</div>"
      ],
      "text/plain": [
       "          x         y        vx        vy     t\n",
       "0  1.000000  0.000000  0.000000  6.283185  0.00\n",
       "1  0.998027  0.062791 -0.394525  6.270787  0.01\n",
       "2  0.992115  0.125333 -0.787492  6.233641  0.02\n",
       "3  0.982287  0.187381 -1.177352  6.171893  0.03\n",
       "4  0.968583  0.248690 -1.562565  6.085787  0.04"
      ]
     },
     "execution_count": 5,
     "metadata": {},
     "output_type": "execute_result"
    }
   ],
   "source": [
    "data = PlanetApp()\n",
    "\n",
    "data.head()"
   ]
  },
  {
   "cell_type": "markdown",
   "metadata": {},
   "source": [
    "We can visualize how a planet moves in its orbit using `interactive()`"
   ]
  },
  {
   "cell_type": "code",
   "execution_count": 6,
   "metadata": {},
   "outputs": [
    {
     "data": {
      "application/vnd.jupyter.widget-view+json": {
       "model_id": "d6e938262a454e25a1b7bcd8b58e5371",
       "version_major": 2,
       "version_minor": 0
      },
      "text/plain": [
       "interactive(children=(FloatSlider(value=0.0, description='tmax', max=1.0), Output()), _dom_classes=('widget-in…"
      ]
     },
     "metadata": {},
     "output_type": "display_data"
    }
   ],
   "source": [
    "def PlanetPlot(data, tmax=None):\n",
    "       \n",
    "    # plot data on up to tmax (if provided)\n",
    "    if tmax is not None:\n",
    "        data = data[data.t <= tmax]\n",
    "    \n",
    "    plt.plot(data.x, data.y, '-', linewidth=0.5)\n",
    "\n",
    "    # Plot the Sun at the origin\n",
    "    plt.plot(0, 0, '.',color=\"yellow\", markersize=20, markeredgecolor='black')\n",
    "    # Plot the Earth at the final position\n",
    "    plt.plot(data.x.iloc[-1], data.y.iloc[-1], '.', color= 'k', markersize=15)\n",
    "\n",
    "    plt.xlabel('x')\n",
    "    plt.ylabel('y')\n",
    "    plt.axis('equal')\n",
    "\n",
    "\n",
    "interactive( PlanetPlot,  data=fixed(data), tmax=(0, 1, 0.1))"
   ]
  },
  {
   "cell_type": "code",
   "execution_count": 7,
   "metadata": {},
   "outputs": [
    {
     "data": {
      "application/vnd.jupyter.widget-view+json": {
       "model_id": "41acd519013a4646bcdd932a453cc8cb",
       "version_major": 2,
       "version_minor": 0
      },
      "text/plain": [
       "interactive(children=(FloatSlider(value=2.5, description='tmax', max=5.0), Output()), _dom_classes=('widget-in…"
      ]
     },
     "metadata": {},
     "output_type": "display_data"
    }
   ],
   "source": [
    "data1 = PlanetApp(vy0=2*np.pi, tmax = 5)\n",
    "data2 = PlanetApp(vy0=4, tmax = 5)\n",
    "data3 = PlanetApp(vy0=2*np.pi+1, tmax = 5)\n",
    "datas = [data1, data2, data3]\n",
    "    \n",
    "def ManyPlanetPlot(datas, tmax=None):\n",
    "    for data in datas:\n",
    "        PlanetPlot(data, tmax)\n",
    "        \n",
    "interactive(ManyPlanetPlot, datas=fixed(datas), tmax=(0, 5.0, 0.1))"
   ]
  },
  {
   "cell_type": "markdown",
   "metadata": {},
   "source": [
    "## A Mini-Solar System"
   ]
  },
  {
   "cell_type": "markdown",
   "metadata": {},
   "source": [
    "These initial examples for planetary orbits have been restricted to two-body central forces.  Of course the Solar System is not a two-body system: the planets exert gravitational forces on each other.\n",
    "\n",
    "Although small compared to the gravitational force of the Sun, the net effect is measureable.  This is how the experimentally measured orbit of Uranus led to the conjecture about the existance of Neptune.\n",
    "\n",
    "Recall: Le Verrier (1846) and the discovery of Neptune (e.g. Youtube Video https://www.youtube.com/watch?v=8Sm99OVG5A8 )"
   ]
  },
  {
   "cell_type": "markdown",
   "metadata": {},
   "source": [
    "Since there are other forces involved, the total force on a particular planet is nolong er a central force. \n",
    "\n",
    "Strictly speaking, the orbits of the planets are not even all in the same plane but we will, for simplicity, assume only a two-dimensional solar system."
   ]
  },
  {
   "cell_type": "markdown",
   "metadata": {},
   "source": [
    "### Equations of Motion"
   ]
  },
  {
   "cell_type": "markdown",
   "metadata": {},
   "source": [
    "$$\\begin{align}\n",
    "m_1 \\frac{d^2 r_1}{dt^2} &= - \\frac{GMm_1}{r_1^3}\\vec{r_1} + \\frac{Gm_1m_2}{r_{21}^3}\\vec{r_{21}} \\\\\n",
    "m_2 \\frac{d^2 r_2}{dt^2} &= - \\frac{GMm_2}{r_2^3}\\vec{r_2} - \\frac{Gm_1m_2}{r_{21}^3}\\vec{r_{21}} \\\\\n",
    "\\end{align}\n",
    "$$"
   ]
  },
  {
   "cell_type": "markdown",
   "metadata": {},
   "source": [
    "where $\\vec{r_1}$ and $\\vec{r_2}$ are direction from the Sun to planets 1 and 2, respectively,  while $\\vec{r_{21}} = \\vec{r_2} - \\vec{r_1}$ is the vector from planet 1 to planet 2."
   ]
  },
  {
   "cell_type": "markdown",
   "metadata": {},
   "source": [
    "We can divide the first equation by $m_1$ and the second equation by $m_2$ to get\n",
    "\n",
    "$$\\begin{align}\n",
    "\\frac{d^2 r_1}{dt^2} &= - \\frac{GM}{r_1^3}\\vec{r_1} + \\frac{Gm_2}{r_{21}^3}\\vec{r_{21}} \\\\\n",
    "\\frac{d^2 r_2}{dt^2} &= - \\frac{GM}{r_2^3}\\vec{r_2} - \\frac{Gm_1}{r_{21}^3}\\vec{r_{21}} \\\\\n",
    "\\end{align}\n",
    "$$"
   ]
  },
  {
   "cell_type": "markdown",
   "metadata": {},
   "source": [
    "To solve this system numerically, we need to write it as a system of first order differential equations for our variables:\n",
    "\n",
    "$x_1, y_1, v_{x1}, v_{y1}, x_2, y_2, v_{x2}, v_{y2}$\n",
    "\n",
    "The vectors $\\vec{r_1}, \\vec{r_2}, $ and $\\vec{r_{21}}$ can be all written in terms of those variables.\n",
    "\n",
    "Finally, $GM, m_1,$ and $m_2$ will be given as parameters. \n",
    "\n"
   ]
  },
  {
   "cell_type": "markdown",
   "metadata": {},
   "source": [
    "To implement this as numerical model, let's start by simulating two planets *without* a gravitational force between them. This is a simpler problem and will help sort out any programming issues."
   ]
  },
  {
   "cell_type": "code",
   "execution_count": 8,
   "metadata": {},
   "outputs": [],
   "source": [
    "def FTwoPlanets(s, t, p):\n",
    "    x1, y1, vx1, vy1, x2, y2, vx2, vy2 = s\n",
    "    \n",
    "    GM, = p\n",
    "    \n",
    "    r1 = np.sqrt(x1**2 + y1**2)\n",
    "    r2 = np.sqrt(x2**2 + y2**2)\n",
    "    \n",
    "    dsdt = [vx1,\n",
    "            vy1,\n",
    "            - GM/r1**3 * x1,\n",
    "            - GM/r1**3 * y1,\n",
    "            vx2,\n",
    "            vy2,\n",
    "            - GM/r2**3 * x2,\n",
    "            - GM/r2**3 * y2,\n",
    "            ]\n",
    "        \n",
    "    return np.array(dsdt)"
   ]
  },
  {
   "cell_type": "code",
   "execution_count": 10,
   "metadata": {},
   "outputs": [],
   "source": [
    "def TwoPlanetApp(x10 = 1, # AU\n",
    "                 y10 = 0,\n",
    "                 vx10 = 0,\n",
    "                 vy10 = np.sqrt(4*np.pi**2/1), # AU/yr\n",
    "                 x20 = 2, # AU\n",
    "                 y20 = 0,\n",
    "                 vx20 = 0,\n",
    "                 vy20 = np.sqrt(4*np.pi**2/2), # AU/yr\n",
    "                 tmax = 8,\n",
    "                 dt = 0.01\n",
    "                ):\n",
    "        \n",
    "    s0 =[x10, y10, vx10, vy10, x20, y20, vx20, vy20]\n",
    "    \n",
    "    ## GM in units of (AU)^3/(yr)^2\n",
    "    GM = 4*np.pi**2 \n",
    "    p = [GM] \n",
    "    \n",
    "    stepper = RK4Stepper(FTwoPlanets, s0=s0, dt=dt, tmax=tmax, p=p)\n",
    "    data = pd.DataFrame(stepper, columns = ['x1', 'y1', 'vx1', 'vy1', \n",
    "                                            'x2', 'y2', 'vx2', 'vy2',\n",
    "                                            't'])    \n",
    "    \n",
    "    return data"
   ]
  },
  {
   "cell_type": "markdown",
   "metadata": {},
   "source": [
    "In the above two functions, we have doubled the number of variables and relabeled the variables as 1 and 2."
   ]
  },
  {
   "cell_type": "markdown",
   "metadata": {},
   "source": [
    "For *default* values, the first planet is a at a distance of 1 AU and the second is at 2 AU with initial velocities chosen so that the orbits will be circular, i.e. $ v= \\left( \\frac{GM}{r}\\right)^{1/2}$"
   ]
  },
  {
   "cell_type": "code",
   "execution_count": 11,
   "metadata": {},
   "outputs": [
    {
     "data": {
      "text/html": [
       "<div>\n",
       "<style scoped>\n",
       "    .dataframe tbody tr th:only-of-type {\n",
       "        vertical-align: middle;\n",
       "    }\n",
       "\n",
       "    .dataframe tbody tr th {\n",
       "        vertical-align: top;\n",
       "    }\n",
       "\n",
       "    .dataframe thead th {\n",
       "        text-align: right;\n",
       "    }\n",
       "</style>\n",
       "<table border=\"1\" class=\"dataframe\">\n",
       "  <thead>\n",
       "    <tr style=\"text-align: right;\">\n",
       "      <th></th>\n",
       "      <th>x1</th>\n",
       "      <th>y1</th>\n",
       "      <th>vx1</th>\n",
       "      <th>vy1</th>\n",
       "      <th>x2</th>\n",
       "      <th>y2</th>\n",
       "      <th>vx2</th>\n",
       "      <th>vy2</th>\n",
       "      <th>t</th>\n",
       "    </tr>\n",
       "  </thead>\n",
       "  <tbody>\n",
       "    <tr>\n",
       "      <th>0</th>\n",
       "      <td>1.000000</td>\n",
       "      <td>0.000000</td>\n",
       "      <td>0.000000</td>\n",
       "      <td>6.283185</td>\n",
       "      <td>2.000000</td>\n",
       "      <td>0.000000</td>\n",
       "      <td>0.000000</td>\n",
       "      <td>4.442883</td>\n",
       "      <td>0.00</td>\n",
       "    </tr>\n",
       "    <tr>\n",
       "      <th>1</th>\n",
       "      <td>0.998027</td>\n",
       "      <td>0.062791</td>\n",
       "      <td>-0.394525</td>\n",
       "      <td>6.270787</td>\n",
       "      <td>1.999507</td>\n",
       "      <td>0.044425</td>\n",
       "      <td>-0.098688</td>\n",
       "      <td>4.441787</td>\n",
       "      <td>0.01</td>\n",
       "    </tr>\n",
       "    <tr>\n",
       "      <th>2</th>\n",
       "      <td>0.992115</td>\n",
       "      <td>0.125333</td>\n",
       "      <td>-0.787492</td>\n",
       "      <td>6.233641</td>\n",
       "      <td>1.998026</td>\n",
       "      <td>0.088828</td>\n",
       "      <td>-0.197327</td>\n",
       "      <td>4.438499</td>\n",
       "      <td>0.02</td>\n",
       "    </tr>\n",
       "    <tr>\n",
       "      <th>3</th>\n",
       "      <td>0.982287</td>\n",
       "      <td>0.187381</td>\n",
       "      <td>-1.177352</td>\n",
       "      <td>6.171893</td>\n",
       "      <td>1.995560</td>\n",
       "      <td>0.133188</td>\n",
       "      <td>-0.295869</td>\n",
       "      <td>4.433020</td>\n",
       "      <td>0.03</td>\n",
       "    </tr>\n",
       "    <tr>\n",
       "      <th>4</th>\n",
       "      <td>0.968583</td>\n",
       "      <td>0.248690</td>\n",
       "      <td>-1.562565</td>\n",
       "      <td>6.085787</td>\n",
       "      <td>1.992110</td>\n",
       "      <td>0.177482</td>\n",
       "      <td>-0.394265</td>\n",
       "      <td>4.425355</td>\n",
       "      <td>0.04</td>\n",
       "    </tr>\n",
       "  </tbody>\n",
       "</table>\n",
       "</div>"
      ],
      "text/plain": [
       "         x1        y1       vx1       vy1        x2        y2       vx2  \\\n",
       "0  1.000000  0.000000  0.000000  6.283185  2.000000  0.000000  0.000000   \n",
       "1  0.998027  0.062791 -0.394525  6.270787  1.999507  0.044425 -0.098688   \n",
       "2  0.992115  0.125333 -0.787492  6.233641  1.998026  0.088828 -0.197327   \n",
       "3  0.982287  0.187381 -1.177352  6.171893  1.995560  0.133188 -0.295869   \n",
       "4  0.968583  0.248690 -1.562565  6.085787  1.992110  0.177482 -0.394265   \n",
       "\n",
       "        vy2     t  \n",
       "0  4.442883  0.00  \n",
       "1  4.441787  0.01  \n",
       "2  4.438499  0.02  \n",
       "3  4.433020  0.03  \n",
       "4  4.425355  0.04  "
      ]
     },
     "execution_count": 11,
     "metadata": {},
     "output_type": "execute_result"
    }
   ],
   "source": [
    "data = TwoPlanetApp()\n",
    "data.head()"
   ]
  },
  {
   "cell_type": "code",
   "execution_count": 12,
   "metadata": {},
   "outputs": [
    {
     "data": {
      "application/vnd.jupyter.widget-view+json": {
       "model_id": "f3f9c98b10964559b8ca3c3b75be3a5e",
       "version_major": 2,
       "version_minor": 0
      },
      "text/plain": [
       "interactive(children=(FloatSlider(value=4.0, description='tmax', max=8.0), Output()), _dom_classes=('widget-in…"
      ]
     },
     "metadata": {},
     "output_type": "display_data"
    }
   ],
   "source": [
    "def TwoPlanetPlot(data, tmax=None):\n",
    "       \n",
    "    # plot data on up to tmax (if provided)\n",
    "    if tmax is not None:\n",
    "        data = data[data.t <= tmax]\n",
    "    \n",
    "    plt.plot(data.x1, data.y1, '-', linewidth=0.5)\n",
    "    plt.plot(data.x2, data.y2, '-', linewidth=0.5)\n",
    "\n",
    "    # Plot the Sun at the origin\n",
    "    plt.plot(0, 0, '.',color=\"yellow\", markersize=20, markeredgecolor='black')\n",
    "    \n",
    "    # Plot the planet at the final position\n",
    "    plt.plot(data.x1.iloc[-1], data.y1.iloc[-1], '.', color= 'k', markersize=15)\n",
    "    plt.plot(data.x2.iloc[-1], data.y2.iloc[-1], '.', color= 'k', markersize=15)\n",
    "\n",
    "    plt.xlabel('x')\n",
    "    plt.ylabel('y')\n",
    "    plt.axis('equal')\n",
    "\n",
    "interactive( TwoPlanetPlot,  data=fixed(data), tmax=(0, 8, 0.1))"
   ]
  },
  {
   "cell_type": "markdown",
   "metadata": {},
   "source": [
    "Once we have the application working with two planets, we can add the new force:"
   ]
  },
  {
   "cell_type": "code",
   "execution_count": 15,
   "metadata": {},
   "outputs": [],
   "source": [
    "def FTwoPlanets(s, t, p):\n",
    "    \n",
    "    x1, y1, vx1, vy1, x2, y2, vx2, vy2 = s\n",
    "    \n",
    "    GM, m1, m2 = p\n",
    "    \n",
    "    r1 = np.sqrt(x1**2 + y1**2)\n",
    "    r2 = np.sqrt(x2**2 + y2**2)\n",
    "    \n",
    "    dx = (x2 - x1)\n",
    "    dy = (y2 - y1)\n",
    "    dr = np.sqrt(dx**2 + dy**2)\n",
    "    \n",
    "    dsdt = [vx1,\n",
    "            vy1,\n",
    "            - GM/r1**3 * x1 + GM*m2/dr**3 * dx,\n",
    "            - GM/r1**3 * y1 + GM*m2/dr**3 * dy,\n",
    "            vx2,\n",
    "            vy2,\n",
    "            - GM/r2**3 * x2 - GM*m1/dr**3 * dx,\n",
    "            - GM/r2**3 * y2 - GM*m1/dr**3 * dy,\n",
    "            ]\n",
    "        \n",
    "    return np.array(dsdt)"
   ]
  },
  {
   "cell_type": "markdown",
   "metadata": {},
   "source": [
    "We need to also now consider the mass of the planets as parameters (in additional to `GM`).  Rather than kilograms, we can use the mass of the Sun, $M$, as the standard unit of mass.  For example, the two planets might be\n",
    "\n",
    "$$\\frac{m_1}{M} = 0.001$$\n",
    "\n",
    "and\n",
    "\n",
    "$$\\frac{m_2}{M} = 0.04$$\n",
    "\n",
    "That is, the first planet is 1/1000 of the mass of the Sun while the second planet is 4/100 of the mass of the Sun.\n",
    "\n",
    "This means that \n",
    "\n",
    "$$G m_2 = \\left(\\frac{m_2}{M}\\right) GM = 0.001 GM$$\n",
    "\n",
    "and\n",
    "\n",
    "$$G m_1 = \\left(\\frac{m_2}{M}\\right) GM = 0.04 GM$$\n",
    "\n",
    "\n",
    "We can pass as these masses as additional parameters.\n"
   ]
  },
  {
   "cell_type": "code",
   "execution_count": 16,
   "metadata": {},
   "outputs": [],
   "source": [
    "def TwoPlanetApp(x10 = 1, # AU\n",
    "                 y10 = 0,\n",
    "                 vx10 = 0,\n",
    "                 vy10 = np.sqrt(4*np.pi**2/1), # AU/yr\n",
    "                 m1 = 0.001, # in solar mass units\n",
    "                 x20 = 2, # AU\n",
    "                 y20 = 0,\n",
    "                 vx20 = 0,\n",
    "                 vy20 = np.sqrt(4*np.pi**2/2), # AU/yr\n",
    "                 m2 = 0.04,\n",
    "                 tmax = 8,\n",
    "                 dt = 0.01\n",
    "                ):\n",
    "        \n",
    "    s0 =[x10, y10, vx10, vy10, x20, y20, vx20, vy20]\n",
    "    \n",
    "    ## GM in units of (AU)^3/(yr)^2\n",
    "    GM = 4*np.pi**2 \n",
    "    p = [GM, m1, m2] \n",
    "    \n",
    "    stepper = RK4Stepper(FTwoPlanets, s0=s0, dt=dt, tmax=tmax, p=p)\n",
    "    data = pd.DataFrame(stepper, columns = ['x1', 'y1', 'vx1', 'vy1', \n",
    "                                            'x2', 'y2', 'vx2', 'vy2',\n",
    "                                            't'])    \n",
    "    \n",
    "    return data"
   ]
  },
  {
   "cell_type": "markdown",
   "metadata": {},
   "source": [
    "The plotting function requires no other changes."
   ]
  },
  {
   "cell_type": "code",
   "execution_count": 17,
   "metadata": {},
   "outputs": [
    {
     "data": {
      "application/vnd.jupyter.widget-view+json": {
       "model_id": "bad476dc26304b33acce28c8bc63897e",
       "version_major": 2,
       "version_minor": 0
      },
      "text/plain": [
       "interactive(children=(FloatSlider(value=4.0, description='tmax', max=8.0), Output()), _dom_classes=('widget-in…"
      ]
     },
     "metadata": {},
     "output_type": "display_data"
    }
   ],
   "source": [
    "data = TwoPlanetApp()\n",
    "\n",
    "interactive(TwoPlanetPlot,  data=fixed(data), tmax=(0, 8, 0.1))"
   ]
  },
  {
   "cell_type": "markdown",
   "metadata": {},
   "source": [
    "It appears that the orbit of the inner planet is being perturbed by the more massive (40 times as massive) outer planet."
   ]
  },
  {
   "cell_type": "markdown",
   "metadata": {},
   "source": [
    "### Real planets"
   ]
  },
  {
   "cell_type": "markdown",
   "metadata": {},
   "source": [
    "Of course, 'real planets' are not nearly so massive nor so near each other.\n",
    "\n",
    "Jupiter, the largest planet itself is only $955 \\times 10^{-6}$ of the mass of the Sun while being about 5.2 AU away from the Sun. \n",
    "\n",
    "Mercury, at $0.166 \\times 10^{-6}$ solar masses, is the closet planet to the Sun at a distance of 0.39 AU. \n",
    "\n",
    "Its effect of Jupiter on the orbit of Mercury is not nearly as dramatic as what was being shown in the first example but it is real and measurable."
   ]
  },
  {
   "cell_type": "markdown",
   "metadata": {},
   "source": [
    "#### Eccentricity"
   ]
  },
  {
   "cell_type": "markdown",
   "metadata": {},
   "source": [
    "Real planets also have slight eccentric orbits. If $a$ is the semi-major axis and $b$ is the semi-minor axis, then\n",
    "\n",
    "$$ e = \\sqrt{1 - \\frac{b^2}{a^2} } $$\n",
    "\n",
    "called the eccentricity, $e$, is a measure of how circular or not an ellipse really is. For circle $a=b$ so $e = 0$ but for general ellipse $0<e<1$.  \n",
    "\n",
    "For general orbits, the speed is not a constant.  We can relate velocity to position using the *vis-viva* equation. ( See [Vis Viva equation](https://en.wikipedia.org/wiki/Vis-viva_equation) for a derivation based on conservation of energy and momentum)\n",
    "\n",
    "$$  v = \\sqrt{ GM \\left( \\frac{2}{r} - \\frac{1}{a} \\right) } $$\n",
    "\n",
    "We can relate the velocity at the nearest point to the Sun to the eccentricity of the orbit:\n",
    "\n",
    "![Kepler's Law](http://hyperphysics.phy-astr.gsu.edu/hbase/imgmec/kep.gif)"
   ]
  },
  {
   "cell_type": "markdown",
   "metadata": {},
   "source": [
    "The orbital parameters of the planets are often reported in terms of their semi-major axis $a$ and their eccentricity $e$."
   ]
  },
  {
   "cell_type": "markdown",
   "metadata": {},
   "source": [
    "| Planet  | Mass | a | e |\n",
    "| ------- | -- | -- | -- |\n",
    "| Mercury | 1.66e-7 | 0.39, | 0.207 |\n",
    "| Earth   | 3.00e-6 | 1.00 | 0.017|  \n",
    "| Jupiter | 9.55e-4 | 5.20 | 0.048|\n"
   ]
  },
  {
   "cell_type": "markdown",
   "metadata": {},
   "source": [
    "Assuming a planet starts at its perihelion\n",
    "\n",
    "$$x_0 = R_a = a(1-e) $$\n",
    "\n",
    "we can calculate the needed initial velocity to maintain a given eccentricity:\n",
    "\n",
    "$$  v_{y0} = \\sqrt{ \\frac{GM}{a} \\left( \\frac{1+e}{1-e} \\right) } $$"
   ]
  },
  {
   "cell_type": "code",
   "execution_count": 18,
   "metadata": {},
   "outputs": [
    {
     "data": {
      "application/vnd.jupyter.widget-view+json": {
       "model_id": "43a7991292544de981f881b141af325b",
       "version_major": 2,
       "version_minor": 0
      },
      "text/plain": [
       "interactive(children=(FloatSlider(value=0.0, description='tmax', max=1.0, step=0.05), Output()), _dom_classes=…"
      ]
     },
     "metadata": {},
     "output_type": "display_data"
    }
   ],
   "source": [
    "def JupiterMercuryApp(m1 = 1.66e-7, m2 = 9.54e-4):\n",
    "\n",
    "    a1 = 0.39\n",
    "    e1 = 0.207\n",
    "    x1 = a1*(1-e1)\n",
    "    vy1 = np.sqrt(4*np.pi**2/a1 * (1+e1)/(1-e1))\n",
    "\n",
    "    a2 = 5.20\n",
    "    e2 = 0.048\n",
    "    x2 = a2*(1-e2)\n",
    "    vy2 = np.sqrt(4*np.pi**2/a2 * (1+e2)/(1-e2))\n",
    "\n",
    "    data = TwoPlanetApp(x10 = x1, vy10=vy1, m1 = m1, \n",
    "                        x20 = x2, vy20=vy2, m2 = m2,\n",
    "                        tmax = 1, dt=0.001)\n",
    "\n",
    "    return data\n",
    "\n",
    "data = JupiterMercuryApp()\n",
    "interactive(TwoPlanetPlot,  data=fixed(data), tmax=(0, 1, 0.05))"
   ]
  },
  {
   "cell_type": "markdown",
   "metadata": {},
   "source": [
    "On this scale, it is very difficult to see what is happening to Mercury. We already have a plotting tool that that works for one planet; we just need to change some variable names to continue to use it."
   ]
  },
  {
   "cell_type": "code",
   "execution_count": 19,
   "metadata": {},
   "outputs": [
    {
     "data": {
      "image/png": "[encoded data removed]",
      "text/plain": [
       "<Figure size 432x288 with 1 Axes>"
      ]
     },
     "metadata": {
      "needs_background": "light"
     },
     "output_type": "display_data"
    }
   ],
   "source": [
    "data['x'] = data['x1']\n",
    "data['y'] = data['y1']\n",
    "\n",
    "PlanetPlot(data)"
   ]
  },
  {
   "cell_type": "markdown",
   "metadata": {},
   "source": [
    "Still difficult to see if anything is really changing.\n",
    "\n",
    "On technique is use a much bigger forcing.  What if Jupiter was 200 times more massive? "
   ]
  },
  {
   "cell_type": "code",
   "execution_count": 20,
   "metadata": {},
   "outputs": [
    {
     "data": {
      "image/png": "[encoded data removed]",
      "text/plain": [
       "<Figure size 432x288 with 1 Axes>"
      ]
     },
     "metadata": {
      "needs_background": "light"
     },
     "output_type": "display_data"
    }
   ],
   "source": [
    "data = JupiterMercuryApp(m2 = 9.54e-4 * 200)\n",
    "\n",
    "data['x'] = data['x1']\n",
    "data['y'] = data['y1']\n",
    "PlanetPlot(data)"
   ]
  },
  {
   "cell_type": "markdown",
   "metadata": {},
   "source": [
    "Something appears to be happening to orbit of Mercury.  Let's look at the distance from Mercury to the Sun."
   ]
  },
  {
   "cell_type": "code",
   "execution_count": 24,
   "metadata": {},
   "outputs": [
    {
     "data": {
      "text/plain": [
       "<matplotlib.legend.Legend at 0x7f1a4d91ce48>"
      ]
     },
     "execution_count": 24,
     "metadata": {},
     "output_type": "execute_result"
    },
    {
     "data": {
      "image/png": "[encoded data removed]",
      "text/plain": [
       "<Figure size 1152x288 with 1 Axes>"
      ]
     },
     "metadata": {
      "needs_background": "light"
     },
     "output_type": "display_data"
    }
   ],
   "source": [
    "data['r'] = np.sqrt(data.x**2 + data.y**2)\n",
    "\n",
    "fig = plt.figure(figsize=(16,4))\n",
    "\n",
    "plt.plot(data.t, data.r, '-', label='r')\n",
    "plt.plot(data.t, data.x, '-', linewidth=0.5, label='x')\n",
    "plt.plot(data.t, data.y, '-', linewidth=0.5, label='y')\n",
    "\n",
    "plt.axvline(data.t[0], color='k', linewidth=0.5)\n",
    "plt.plot(data.t[0], data.x[0], 'ko')\n",
    "plt.plot(data.t[0], data.y[0], 'ko')\n",
    "perihelions = [ {'t': data.t[0], 'x': data.x[0], 'y': data.y[0]}]\n",
    "\n",
    "N = len(data)\n",
    "for i in range(1, N-1):\n",
    "    if (data.r[i-1] >= data.r[i]) and (data.r[i] <= data.r[i+1]):\n",
    "        plt.axvline(data.t[i], color='k', linewidth=0.5)\n",
    "        plt.plot(data.t[i], data.x[i], 'ko')\n",
    "        plt.plot(data.t[i], data.y[i], 'ko')\n",
    "        perihelions.append( {'t': data.t[i], 'x': data.x[i], 'y': data.y[i]} )\n",
    "\n",
    "plt.axhline(0, color='k')\n",
    "plt.xlim(0, 1)\n",
    "plt.legend()"
   ]
  },
  {
   "cell_type": "markdown",
   "metadata": {},
   "source": [
    "Here we look for when the perihelion, the closest point between the planet and the Sun, occurs. Notice that the simluation starts off with the perihelion at $x=x_0$ and $y = 0$. \n",
    "\n",
    "But over time, the location of the perihelion is moving clockwise.  We say that the perihelion is precessing."
   ]
  },
  {
   "cell_type": "code",
   "execution_count": 25,
   "metadata": {},
   "outputs": [],
   "source": [
    "perihelion = pd.DataFrame(perihelions)\n",
    "perihelion['θ'] = np.arctan2(perihelion.y, perihelion.x)"
   ]
  },
  {
   "cell_type": "code",
   "execution_count": 26,
   "metadata": {},
   "outputs": [
    {
     "data": {
      "text/html": [
       "<div>\n",
       "<style scoped>\n",
       "    .dataframe tbody tr th:only-of-type {\n",
       "        vertical-align: middle;\n",
       "    }\n",
       "\n",
       "    .dataframe tbody tr th {\n",
       "        vertical-align: top;\n",
       "    }\n",
       "\n",
       "    .dataframe thead th {\n",
       "        text-align: right;\n",
       "    }\n",
       "</style>\n",
       "<table border=\"1\" class=\"dataframe\">\n",
       "  <thead>\n",
       "    <tr style=\"text-align: right;\">\n",
       "      <th></th>\n",
       "      <th>t</th>\n",
       "      <th>x</th>\n",
       "      <th>y</th>\n",
       "      <th>θ</th>\n",
       "    </tr>\n",
       "  </thead>\n",
       "  <tbody>\n",
       "    <tr>\n",
       "      <th>0</th>\n",
       "      <td>0.000</td>\n",
       "      <td>0.309270</td>\n",
       "      <td>0.000000</td>\n",
       "      <td>0.000000</td>\n",
       "    </tr>\n",
       "    <tr>\n",
       "      <th>1</th>\n",
       "      <td>0.241</td>\n",
       "      <td>0.308766</td>\n",
       "      <td>-0.009180</td>\n",
       "      <td>-0.029721</td>\n",
       "    </tr>\n",
       "    <tr>\n",
       "      <th>2</th>\n",
       "      <td>0.481</td>\n",
       "      <td>0.306207</td>\n",
       "      <td>-0.031051</td>\n",
       "      <td>-0.101060</td>\n",
       "    </tr>\n",
       "    <tr>\n",
       "      <th>3</th>\n",
       "      <td>0.722</td>\n",
       "      <td>0.303208</td>\n",
       "      <td>-0.041061</td>\n",
       "      <td>-0.134603</td>\n",
       "    </tr>\n",
       "    <tr>\n",
       "      <th>4</th>\n",
       "      <td>0.963</td>\n",
       "      <td>0.299103</td>\n",
       "      <td>-0.051862</td>\n",
       "      <td>-0.171683</td>\n",
       "    </tr>\n",
       "  </tbody>\n",
       "</table>\n",
       "</div>"
      ],
      "text/plain": [
       "       t         x         y         θ\n",
       "0  0.000  0.309270  0.000000  0.000000\n",
       "1  0.241  0.308766 -0.009180 -0.029721\n",
       "2  0.481  0.306207 -0.031051 -0.101060\n",
       "3  0.722  0.303208 -0.041061 -0.134603\n",
       "4  0.963  0.299103 -0.051862 -0.171683"
      ]
     },
     "execution_count": 26,
     "metadata": {},
     "output_type": "execute_result"
    }
   ],
   "source": [
    "perihelion"
   ]
  },
  {
   "cell_type": "code",
   "execution_count": 27,
   "metadata": {},
   "outputs": [
    {
     "data": {
      "image/png": "[encoded data removed]",
      "text/plain": [
       "<Figure size 432x288 with 1 Axes>"
      ]
     },
     "metadata": {
      "needs_background": "light"
     },
     "output_type": "display_data"
    }
   ],
   "source": [
    "PlanetPlot(data)\n",
    "for i, row in perihelion.iterrows():\n",
    "    plt.plot([0, row['x']], [0, row['y']], 'g-')"
   ]
  },
  {
   "cell_type": "code",
   "execution_count": 28,
   "metadata": {},
   "outputs": [
    {
     "name": "stdout",
     "output_type": "stream",
     "text": [
      "dθdt = -0.1862 rad/yr\n"
     ]
    },
    {
     "data": {
      "image/png": "[encoded data removed]",
      "text/plain": [
       "<Figure size 432x288 with 1 Axes>"
      ]
     },
     "metadata": {
      "needs_background": "light"
     },
     "output_type": "display_data"
    }
   ],
   "source": [
    "plt.plot(perihelion.t, perihelion.θ, 'o')\n",
    "plt.xlabel('t')\n",
    "plt.ylabel('θ')\n",
    "\n",
    "p = np.polyfit(perihelion.t, perihelion.θ, 1)\n",
    "plt.plot(perihelion.t, np.polyval(p, perihelion.t))\n",
    "\n",
    "dθdt = p[0]\n",
    "\n",
    "print(f'dθdt = {dθdt:.4f} rad/yr')"
   ]
  },
  {
   "cell_type": "markdown",
   "metadata": {},
   "source": [
    "We can complete this entire analysis, omitting the plots, as a function the scaling factor $S$ on Jupiter."
   ]
  },
  {
   "cell_type": "code",
   "execution_count": 29,
   "metadata": {},
   "outputs": [],
   "source": [
    "def EstimatePrecessionRate(S=200):\n",
    "    \n",
    "    data = JupiterMercuryApp(m2 = 9.54e-4 * S)\n",
    "\n",
    "    data['x'] = data['x1']\n",
    "    data['y'] = data['y1']\n",
    "    \n",
    "    data['r'] = np.sqrt(data.x**2 + data.y**2)\n",
    "\n",
    "    perihelions = [ {'t': data.t[0], 'x': data.x[0], 'y': data.y[0]}]\n",
    "\n",
    "    N = len(data)\n",
    "    for i in range(1, N-1):\n",
    "        if (data.r[i-1] >= data.r[i]) and (data.r[i] <= data.r[i+1]):\n",
    "            perihelions.append( {'t': data.t[i], 'x': data.x[i], 'y': data.y[i]} )\n",
    "    perihelion = pd.DataFrame(perihelions)\n",
    "    perihelion['θ'] = np.arctan2(perihelion.y, perihelion.x)\n",
    "\n",
    "    p = np.polyfit(perihelion.t, perihelion.θ, 1)\n",
    "\n",
    "    dθdt = p[0]\n",
    "    \n",
    "    return dθdt"
   ]
  },
  {
   "cell_type": "code",
   "execution_count": 30,
   "metadata": {},
   "outputs": [
    {
     "name": "stdout",
     "output_type": "stream",
     "text": [
      "dθdt = -0.1862 rad/yr\n"
     ]
    }
   ],
   "source": [
    "dθdt = EstimatePrecessionRate(200)\n",
    "print(f'dθdt = {dθdt:.4f} rad/yr')"
   ]
  },
  {
   "cell_type": "markdown",
   "metadata": {},
   "source": [
    "This shows that our analysis function still give the same answer."
   ]
  },
  {
   "cell_type": "markdown",
   "metadata": {},
   "source": [
    "Ideally, we would just calculate `EstimatePrecessionRate(1)`\n"
   ]
  },
  {
   "cell_type": "code",
   "execution_count": 31,
   "metadata": {},
   "outputs": [
    {
     "name": "stdout",
     "output_type": "stream",
     "text": [
      "dθdt = -0.0076 rad/yr\n"
     ]
    }
   ],
   "source": [
    "dθdt = EstimatePrecessionRate(1)\n",
    "print(f'dθdt = {dθdt:.4f} rad/yr')"
   ]
  },
  {
   "cell_type": "markdown",
   "metadata": {},
   "source": [
    "However, if you go back and look at the plots associated with this analysis (which you are welcome to do) you may not be convinced of the precession."
   ]
  },
  {
   "cell_type": "markdown",
   "metadata": {},
   "source": [
    "Instead we can then calculate the precession rate for a range of scaling factors"
   ]
  },
  {
   "cell_type": "code",
   "execution_count": 32,
   "metadata": {},
   "outputs": [
    {
     "data": {
      "application/vnd.jupyter.widget-view+json": {
       "model_id": "37eebb95c4b04d4c84307f8574d35011",
       "version_major": 2,
       "version_minor": 0
      },
      "text/plain": [
       "HBox(children=(IntProgress(value=0, max=10), HTML(value='')))"
      ]
     },
     "metadata": {},
     "output_type": "display_data"
    },
    {
     "name": "stdout",
     "output_type": "stream",
     "text": [
      "\n"
     ]
    }
   ],
   "source": [
    "results = []\n",
    "for S in tqdm.tqdm_notebook(range(0, 200, 20)):\n",
    "    dθdt = EstimatePrecessionRate(S)\n",
    "    results.append({'S': S, 'dθdt': dθdt})\n",
    "results = pd.DataFrame(results)"
   ]
  },
  {
   "cell_type": "code",
   "execution_count": 33,
   "metadata": {},
   "outputs": [
    {
     "data": {
      "image/png": "[encoded data removed]",
      "text/plain": [
       "<Figure size 432x288 with 1 Axes>"
      ]
     },
     "metadata": {
      "needs_background": "light"
     },
     "output_type": "display_data"
    }
   ],
   "source": [
    "plt.plot(results.S, results.dθdt, 'o')\n",
    "plt.xlabel('S')\n",
    "plt.ylabel('dθdt')\n",
    "\n",
    "p = np.polyfit(results.S, results.dθdt, 1)\n",
    "plt.plot(results.S, np.polyval(p, results.S))\n",
    "plt.xlim(200, 0)\n",
    "plt.show()"
   ]
  },
  {
   "cell_type": "markdown",
   "metadata": {},
   "source": [
    "Notice that notwithstanding the variation in the precession rate, there is an approximate linear trend as the scaling factor of Jupiter get smaller.  To determine the precession rate for Mercurcy, we can use this linear regression line."
   ]
  },
  {
   "cell_type": "code",
   "execution_count": 34,
   "metadata": {},
   "outputs": [
    {
     "name": "stdout",
     "output_type": "stream",
     "text": [
      "dθdt = -0.0011 rad/yr\n"
     ]
    }
   ],
   "source": [
    "dθdt = np.polyval(p, 1)\n",
    "print(f'dθdt = {dθdt:.4f} rad/yr')"
   ]
  },
  {
   "cell_type": "markdown",
   "metadata": {},
   "source": [
    "- - -\n",
    "### Textbook readings\n",
    "\n",
    "This lecture is based on CSM Chapter 5:\n",
    "\n",
    "- 5.6 Simulation of the Orbit\n",
    "- 5.9  A Mini-Solar System"
   ]
  }
 ],
 "metadata": {
  "anaconda-cloud": {},
  "kernelspec": {
   "display_name": "Python 3",
   "language": "python",
   "name": "python3"
  },
  "language_info": {
   "codemirror_mode": {
    "name": "ipython",
    "version": 3
   },
   "file_extension": ".py",
   "mimetype": "text/x-python",
   "name": "python",
   "nbconvert_exporter": "python",
   "pygments_lexer": "ipython3",
   "version": "3.6.7"
  }
 },
 "nbformat": 4,
 "nbformat_minor": 2
}

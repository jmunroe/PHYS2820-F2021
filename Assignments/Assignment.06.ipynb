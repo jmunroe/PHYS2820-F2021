{
 "cells": [
  {
   "cell_type": "markdown",
   "metadata": {
    "slideshow": {
     "slide_type": "slide"
    }
   },
   "source": [
    "# Assignment 6\n",
    "\n",
    "Due: Sunday, November 17, 2019"
   ]
  },
  {
   "cell_type": "markdown",
   "metadata": {},
   "source": [
    "*Please complete all parts of this assignment within this notebook. You may leave the notebook file on the JupyterHub server (where it will be collected automatically on the due date).*"
   ]
  },
  {
   "cell_type": "markdown",
   "metadata": {},
   "source": [
    "Use both Python code cells and Jupyter Markdown cells to complete the following exercises. Place your solution immediately after the corresponding question."
   ]
  },
  {
   "cell_type": "code",
   "execution_count": 1,
   "metadata": {},
   "outputs": [],
   "source": [
    "%matplotlib inline\n",
    "import matplotlib.pyplot as plt\n",
    "import numpy as np\n",
    "import pandas as pd\n",
    "import sympy as sp\n",
    "sp.init_printing(use_latex='mathjax')"
   ]
  },
  {
   "cell_type": "markdown",
   "metadata": {},
   "source": [
    "In this assignment, Problem A has been done for you. Run each cell as given. Read and try to understand how the solution is constructed. \n",
    "\n",
    "Then, for Problems B and C try and solve more complicated versions of the same problem. It may be helpful to copy-and-paste the complete solution for Problem A and then edit it to be the solution to Problems B and C.  The lines of code in Problem A that will need to modified are marked with the symbols `# <==` to try and help you. Also remember to edit the Markdown text within the question so that it is consistent with the question being answered."
   ]
  },
  {
   "cell_type": "markdown",
   "metadata": {},
   "source": [
    "- - -\n",
    "\n",
    "### A. Atwood's machine"
   ]
  },
  {
   "cell_type": "markdown",
   "metadata": {},
   "source": [
    "Atwood's machine consists of two masses ($m_1$ and $m_2$) hanging by a non-elastic rope of negligible mass running over a small, massless and frictionless pulley.  The rope is a length $L$ long and the pulley is a height $H$ off the ground. \n",
    "\n",
    "Find the position of the masses a function of time in terms of relavent parameters of the system assuming the heavier mass, $m_1$, starts from rest at a height of $y_0$ above the ground.\n",
    "\n",
    "Let $m_1 = 5.1\\;\\mbox{kg}, m_2 = 5.0\\;\\mbox{kg}, g=9.8\\;\\mbox{m/s}^2, H=1.0\\;\\mbox{m}, L= 0.8\\;\\mbox{m},$ and $y_{0}=0.9\\;\\mbox{m}$.\n"
   ]
  },
  {
   "cell_type": "markdown",
   "metadata": {},
   "source": [
    "***Solution***"
   ]
  },
  {
   "cell_type": "markdown",
   "metadata": {},
   "source": [
    "We start by declaring the symbols we will need in this problem:"
   ]
  },
  {
   "cell_type": "code",
   "execution_count": 299,
   "metadata": {},
   "outputs": [],
   "source": [
    "m1, m2, t, H, L, g, T = sp.symbols('m1, m2, t, H, L, g, T')     # <==\n",
    "y1, y2 = sp.symbols('y1, y2', cls=sp.Function)                  # <=="
   ]
  },
  {
   "cell_type": "markdown",
   "metadata": {},
   "source": [
    "Because of the geometrical setup of the system, the accelerations of the masses are equal in magnitude and opposite in direction.  But, another way of describing this geomtrical requirement is to write a *constraint equation* that must always equal to zero."
   ]
  },
  {
   "cell_type": "code",
   "execution_count": 300,
   "metadata": {},
   "outputs": [
    {
     "data": {
      "text/latex": [
       "$\\displaystyle - 2 H + L + \\operatorname{y_{1}}{\\left(t \\right)} + \\operatorname{y_{2}}{\\left(t \\right)}$"
      ],
      "text/plain": [
       "-2⋅H + L + y₁(t) + y₂(t)"
      ]
     },
     "execution_count": 300,
     "metadata": {},
     "output_type": "execute_result"
    }
   ],
   "source": [
    "constraint = y1(t) + y2(t) + L - 2*H                            # <==\n",
    "constraint"
   ]
  },
  {
   "cell_type": "markdown",
   "metadata": {},
   "source": [
    "Notice that if you take the second derivative with $t$ for this equation, you recover the same idea that says $a_1 = -a_2$. "
   ]
  },
  {
   "cell_type": "code",
   "execution_count": 301,
   "metadata": {},
   "outputs": [
    {
     "data": {
      "text/latex": [
       "$\\displaystyle \\frac{d^{2}}{d t^{2}} \\operatorname{y_{1}}{\\left(t \\right)} + \\frac{d^{2}}{d t^{2}} \\operatorname{y_{2}}{\\left(t \\right)}$"
      ],
      "text/plain": [
       "  2            2       \n",
       " d            d        \n",
       "───(y₁(t)) + ───(y₂(t))\n",
       "  2            2       \n",
       "dt           dt        "
      ]
     },
     "execution_count": 301,
     "metadata": {},
     "output_type": "execute_result"
    }
   ],
   "source": [
    "constraint.diff(t, t)"
   ]
  },
  {
   "cell_type": "markdown",
   "metadata": {},
   "source": [
    "Here is Newton's Law applied to mass 1,"
   ]
  },
  {
   "cell_type": "code",
   "execution_count": 302,
   "metadata": {},
   "outputs": [
    {
     "data": {
      "text/latex": [
       "$\\displaystyle - T + g m_{1} + m_{1} \\frac{d^{2}}{d t^{2}} \\operatorname{y_{1}}{\\left(t \\right)}$"
      ],
      "text/plain": [
       "                 2       \n",
       "                d        \n",
       "-T + g⋅m₁ + m₁⋅───(y₁(t))\n",
       "                 2       \n",
       "               dt        "
      ]
     },
     "execution_count": 302,
     "metadata": {},
     "output_type": "execute_result"
    }
   ],
   "source": [
    "eq1 = m1 * y1(t).diff(t, t) + m1 * g - T                        # <==\n",
    "eq1"
   ]
  },
  {
   "cell_type": "markdown",
   "metadata": {},
   "source": [
    "and also applied to mass 2"
   ]
  },
  {
   "cell_type": "code",
   "execution_count": 303,
   "metadata": {},
   "outputs": [
    {
     "data": {
      "text/latex": [
       "$\\displaystyle - T + g m_{2} + m_{2} \\frac{d^{2}}{d t^{2}} \\operatorname{y_{2}}{\\left(t \\right)}$"
      ],
      "text/plain": [
       "                 2       \n",
       "                d        \n",
       "-T + g⋅m₂ + m₂⋅───(y₂(t))\n",
       "                 2       \n",
       "               dt        "
      ]
     },
     "execution_count": 303,
     "metadata": {},
     "output_type": "execute_result"
    }
   ],
   "source": [
    "eq2 = m2 * y2(t).diff(t, t) +  m2 * g - T                       # <==\n",
    "eq2"
   ]
  },
  {
   "cell_type": "markdown",
   "metadata": {},
   "source": [
    "Using the constraint, we can solve for $y_2(t)$ as the expression `y2_`"
   ]
  },
  {
   "cell_type": "code",
   "execution_count": 304,
   "metadata": {},
   "outputs": [
    {
     "data": {
      "text/latex": [
       "$\\displaystyle 2 H - L - \\operatorname{y_{1}}{\\left(t \\right)}$"
      ],
      "text/plain": [
       "2⋅H - L - y₁(t)"
      ]
     },
     "execution_count": 304,
     "metadata": {},
     "output_type": "execute_result"
    }
   ],
   "source": [
    "y2_ = sp.solve(constraint, y2(t))[0]\n",
    "y2_"
   ]
  },
  {
   "cell_type": "markdown",
   "metadata": {},
   "source": [
    "This allow us to replace $y_2(t)$ in equation (2) with this expression to get the new equation"
   ]
  },
  {
   "cell_type": "code",
   "execution_count": 305,
   "metadata": {},
   "outputs": [
    {
     "data": {
      "text/latex": [
       "$\\displaystyle - T + g m_{2} - m_{2} \\frac{d^{2}}{d t^{2}} \\operatorname{y_{1}}{\\left(t \\right)}$"
      ],
      "text/plain": [
       "                 2       \n",
       "                d        \n",
       "-T + g⋅m₂ - m₂⋅───(y₁(t))\n",
       "                 2       \n",
       "               dt        "
      ]
     },
     "execution_count": 305,
     "metadata": {},
     "output_type": "execute_result"
    }
   ],
   "source": [
    "eq3 = eq2.subs({y2(t): y2_}).doit()\n",
    "eq3"
   ]
  },
  {
   "cell_type": "markdown",
   "metadata": {},
   "source": [
    "Likewise, we can solve equation (3) for $T$ as the expression `T_`"
   ]
  },
  {
   "cell_type": "code",
   "execution_count": 306,
   "metadata": {},
   "outputs": [
    {
     "data": {
      "text/latex": [
       "$\\displaystyle m_{2} \\left(g - \\frac{d^{2}}{d t^{2}} \\operatorname{y_{1}}{\\left(t \\right)}\\right)$"
      ],
      "text/plain": [
       "   ⎛      2       ⎞\n",
       "   ⎜     d        ⎟\n",
       "m₂⋅⎜g - ───(y₁(t))⎟\n",
       "   ⎜      2       ⎟\n",
       "   ⎝    dt        ⎠"
      ]
     },
     "execution_count": 306,
     "metadata": {},
     "output_type": "execute_result"
    }
   ],
   "source": [
    "T_ = sp.solve(eq3, T)[0]\n",
    "T_"
   ]
  },
  {
   "cell_type": "markdown",
   "metadata": {},
   "source": [
    "Substituting back into equation (1) gives"
   ]
  },
  {
   "cell_type": "code",
   "execution_count": 307,
   "metadata": {},
   "outputs": [
    {
     "data": {
      "text/latex": [
       "$\\displaystyle g m_{1} + m_{1} \\frac{d^{2}}{d t^{2}} \\operatorname{y_{1}}{\\left(t \\right)} - m_{2} \\left(g - \\frac{d^{2}}{d t^{2}} \\operatorname{y_{1}}{\\left(t \\right)}\\right)$"
      ],
      "text/plain": [
       "            2             ⎛      2       ⎞\n",
       "           d              ⎜     d        ⎟\n",
       "g⋅m₁ + m₁⋅───(y₁(t)) - m₂⋅⎜g - ───(y₁(t))⎟\n",
       "            2             ⎜      2       ⎟\n",
       "          dt              ⎝    dt        ⎠"
      ]
     },
     "execution_count": 307,
     "metadata": {},
     "output_type": "execute_result"
    }
   ],
   "source": [
    "eq4 = eq1.subs({T: T_}).doit()\n",
    "eq4"
   ]
  },
  {
   "cell_type": "markdown",
   "metadata": {},
   "source": [
    "Equation (4) is a differential equation that could be solved with `sp.dsolve()`.  Instead, we are going to solve for the acceleration of mass 1 so that we can solve the problem numerically."
   ]
  },
  {
   "cell_type": "code",
   "execution_count": 308,
   "metadata": {},
   "outputs": [
    {
     "data": {
      "text/latex": [
       "$\\displaystyle \\frac{g \\left(- m_{1} + m_{2}\\right)}{m_{1} + m_{2}}$"
      ],
      "text/plain": [
       "g⋅(-m₁ + m₂)\n",
       "────────────\n",
       "  m₁ + m₂   "
      ]
     },
     "execution_count": 308,
     "metadata": {},
     "output_type": "execute_result"
    }
   ],
   "source": [
    "a1 = sp.solve(eq4, y1(t).diff(t, t))[0]\n",
    "a1"
   ]
  },
  {
   "cell_type": "markdown",
   "metadata": {},
   "source": [
    "Here are the numerical parameters for this problem."
   ]
  },
  {
   "cell_type": "code",
   "execution_count": 309,
   "metadata": {},
   "outputs": [],
   "source": [
    "params = {m1:5.1, m2:5.0, g:9.8, H:1.0, L:0.8 }                   # <=="
   ]
  },
  {
   "cell_type": "markdown",
   "metadata": {},
   "source": [
    "We can define a NumPy function that evaluates the second derivative in terms of $t$, $y_1(t)$, and $\\frac{d y_1}{dt}$. \n",
    "\n",
    "(*For this particular problem the accleration is constant, but in general could depend on $t$, $y_1$, and $v_1 = \\frac{d y_1}{dt}$*)"
   ]
  },
  {
   "cell_type": "code",
   "execution_count": 310,
   "metadata": {},
   "outputs": [],
   "source": [
    "dvdt = sp.lambdify( (t, y1(t), y1(t).diff(t)), a1.subs(params) )"
   ]
  },
  {
   "cell_type": "markdown",
   "metadata": {},
   "source": [
    "We can solve the problem numerically using the SciPy solver `odeint`."
   ]
  },
  {
   "cell_type": "code",
   "execution_count": 311,
   "metadata": {},
   "outputs": [],
   "source": [
    "from scipy.integrate import odeint\n",
    "\n",
    "def RHS(s, t):\n",
    "    y, v = s\n",
    "    return [v, dvdt(t, y, v)]\n",
    "\n",
    "t_ = np.arange(0, 1, 0.01)\n",
    "\n",
    "y0 = 0.9\n",
    "v0 = 0\n",
    "s0 = [y0, v0]\n",
    "\n",
    "soln = odeint(RHS, s0, t_)\n",
    "\n",
    "data = pd.DataFrame(soln, columns=['y1', 'v'])\n",
    "data['t'] = t_"
   ]
  },
  {
   "cell_type": "markdown",
   "metadata": {},
   "source": [
    "We can also evaluate the function $y_2(t)$"
   ]
  },
  {
   "cell_type": "code",
   "execution_count": 312,
   "metadata": {},
   "outputs": [
    {
     "data": {
      "text/latex": [
       "$\\displaystyle 2 H - L - \\operatorname{y_{1}}{\\left(t \\right)}$"
      ],
      "text/plain": [
       "2⋅H - L - y₁(t)"
      ]
     },
     "execution_count": 312,
     "metadata": {},
     "output_type": "execute_result"
    }
   ],
   "source": [
    "y2_                                                              # <=="
   ]
  },
  {
   "cell_type": "markdown",
   "metadata": {},
   "source": [
    "by evaluating the above expression as a function of $y_1$"
   ]
  },
  {
   "cell_type": "code",
   "execution_count": 313,
   "metadata": {},
   "outputs": [],
   "source": [
    "y2 = sp.lambdify(y1(t), y2_.subs(params))                        # <==\n",
    "data['y2'] = y2(data.y1)                                         # <=="
   ]
  },
  {
   "cell_type": "code",
   "execution_count": 314,
   "metadata": {},
   "outputs": [
    {
     "data": {
      "image/png": "[encoded data removed]",
      "text/plain": [
       "<Figure size 864x288 with 2 Axes>"
      ]
     },
     "metadata": {
      "needs_background": "light"
     },
     "output_type": "display_data"
    }
   ],
   "source": [
    "fig, axs = plt.subplots(1, 2, figsize=(12,4))\n",
    "axs[0].plot(data.t, data.y1)\n",
    "axs[0].set_ylabel('$y_1(t)$')\n",
    "axs[0].set_xlabel('$t$')\n",
    "\n",
    "axs[1].plot(data.t, data.y2)                                     # <==\n",
    "axs[1].set_ylabel('$y_2(t)$')                                    # <==\n",
    "axs[1].set_xlabel('$t$')\n",
    "\n",
    "plt.show()"
   ]
  },
  {
   "cell_type": "markdown",
   "metadata": {},
   "source": [
    "The above plot shows that heavier mass falls down while the lighter mass rises up."
   ]
  },
  {
   "cell_type": "markdown",
   "metadata": {},
   "source": [
    "- - -\n",
    "## B. Atwood's machine over a table"
   ]
  },
  {
   "cell_type": "markdown",
   "metadata": {},
   "source": [
    "An Atwood's machine is constructed with two masses ($m_1$ and $m_2$) attached with a rope of negligible mass running over a small, massless and frictionless pulley.  The rope is a length $L$ long and the pulley is a height $H$ off the ground. \n",
    "\n",
    "In this problem, the heavier mass, $m_2$, lies on a frictionless table of height $H$ and is connected by a rope running parallel to the table through a pulley to the lighter mass, $m_1$, which is hanging vertically.  Use the symbols $y_1(t)$ and $x_2(t)$ to make it clearer that the lighter mass, $m_1$ moves vertically and the heavier mass, $m_2$ moves horizontally.  Consider a coordinate system where the ground is at $y=0$, the pulley is $x=0$, and the mass on the table starts off to the right with $x_2 > 0$.\n",
    "\n",
    "Find the position of the masses a function of time in terms of relavent parameters of the system assuming the lighter mass, $m_1$, starts from rest at a height of $y_0$ above the ground. (**Note**: *$m_1$ is now the lighter of the two masses*)\n",
    "\n",
    "Let $m_1 = 1.0\\;\\mbox{kg}, m_2 = 5.0\\;\\mbox{kg}, g=9.8\\;\\mbox{m/s}^2, H=1.0\\;\\mbox{m}, L= 0.8\\;\\mbox{m},$ and $y_{0}=0.9\\;\\mbox{m}$.\n"
   ]
  },
  {
   "cell_type": "markdown",
   "metadata": {},
   "source": [
    "***Solution***"
   ]
  },
  {
   "cell_type": "code",
   "execution_count": null,
   "metadata": {},
   "outputs": [],
   "source": []
  },
  {
   "cell_type": "markdown",
   "metadata": {},
   "source": [
    "- - -\n",
    "## C. Atwood's machine over a table with an angle"
   ]
  },
  {
   "cell_type": "markdown",
   "metadata": {},
   "source": [
    "An Atwood's machine is constructed with two masses ($m_1$ and $m_2$) attached with a rope of negligible mass running over a small, massless and frictionless pulley.  The rope is a length $L$ long and the pulley is a height $H$ off the ground. \n",
    "\n",
    "In this problem, the heavier mass, $m_2$, lies on a frictionless table of height $h$ (where $h < H$) and is connected by a rope running through a pulley to the lighter mass, $m_1$, which is hanging vertically.  The difference here is that the angle that the rope makes to the table is now changing with time and so the tension on the rope is no longer a constant.  You may assume that the heavier mass always remains on the table. Importantly, it is no longer true that the magnitude of the accleration of these two masses are still the same. Again, use the symbols $y_1(t)$ and $x_2(t)$ to make it clearer that the lighter mass, $m_1$ moves vertically and the heavier mass, $m_2$ moves horizontally.\n",
    "\n",
    "Find the position of the masses a function of time in terms of relavent parameters of the system assuming the heavier mass, $m_1$, starts from rest at a height of $y_0$ above the ground.\n",
    "\n",
    "Let $m_1 = 1.0\\;\\mbox{kg}, m_2 = 5.0\\;\\mbox{kg}, g=9.8\\;\\mbox{m/s}^2, H=1.0\\;\\mbox{m}, L= 0.8\\;\\mbox{m}, y_{0}=0.9\\;\\mbox{m},$ and $h=0.5\\;\\mbox{m}$.\n"
   ]
  },
  {
   "cell_type": "markdown",
   "metadata": {},
   "source": [
    "***Solution***"
   ]
  },
  {
   "cell_type": "code",
   "execution_count": null,
   "metadata": {},
   "outputs": [],
   "source": []
  }
 ],
 "metadata": {
  "kernelspec": {
   "display_name": "Python 3",
   "language": "python",
   "name": "python3"
  },
  "language_info": {
   "codemirror_mode": {
    "name": "ipython",
    "version": 3
   },
   "file_extension": ".py",
   "mimetype": "text/x-python",
   "name": "python",
   "nbconvert_exporter": "python",
   "pygments_lexer": "ipython3",
   "version": "3.6.7"
  }
 },
 "nbformat": 4,
 "nbformat_minor": 2
}
